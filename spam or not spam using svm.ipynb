{
  "nbformat": 4,
  "nbformat_minor": 0,
  "metadata": {
    "colab": {
      "provenance": [],
      "mount_file_id": "1_ti7ZM3cxLq-08nVuw7rOtMb4t39fLQP",
      "authorship_tag": "ABX9TyNbFRmZVuDKTpv3B2je/orC",
      "include_colab_link": true
    },
    "kernelspec": {
      "name": "python3",
      "display_name": "Python 3"
    },
    "language_info": {
      "name": "python"
    }
  },
  "cells": [
    {
      "cell_type": "markdown",
      "metadata": {
        "id": "view-in-github",
        "colab_type": "text"
      },
      "source": [
        "<a href=\"https://colab.research.google.com/github/Lukesh17/LUKESH/blob/main/spam%20or%20not%20spam%20using%20svm.ipynb\" target=\"_parent\"><img src=\"https://colab.research.google.com/assets/colab-badge.svg\" alt=\"Open In Colab\"/></a>"
      ]
    },
    {
      "cell_type": "code",
      "execution_count": 2,
      "metadata": {
        "colab": {
          "base_uri": "https://localhost:8080/"
        },
        "id": "Lbf4I1f-HFci",
        "outputId": "35602c77-c580-4e9e-e75f-fe23d4c24b63"
      },
      "outputs": [
        {
          "output_type": "stream",
          "name": "stdout",
          "text": [
            "                                           EmailText     Label\n",
            "0  \"Congratulations! You've won a $1000 gift card...      Spam\n",
            "1  \"Important update regarding your account. Plea...  Not Spam\n",
            "2              \"Click here to claim your prize now!\"      Spam\n",
            "3  \"Meeting tomorrow at 3 PM in the conference ro...  Not Spam\n",
            "4           \"Get a free iPhone! Limited time offer!\"      Spam\n",
            "Accuracy: 1.0\n",
            "Classification Report:\n",
            "              precision    recall  f1-score   support\n",
            "\n",
            "    Not Spam       1.00      1.00      1.00         8\n",
            "        Spam       1.00      1.00      1.00         8\n",
            "\n",
            "    accuracy                           1.00        16\n",
            "   macro avg       1.00      1.00      1.00        16\n",
            "weighted avg       1.00      1.00      1.00        16\n",
            "\n",
            "Prediction for new email: Not Spam\n"
          ]
        }
      ],
      "source": [
        "import pandas as pd\n",
        "from sklearn.model_selection import train_test_split\n",
        "from sklearn.feature_extraction.text import CountVectorizer\n",
        "from sklearn.svm import SVC\n",
        "from sklearn.metrics import classification_report, accuracy_score\n",
        "\n",
        "# Load the dataset\n",
        "data = pd.read_csv('datasetexp4.csv')\n",
        "\n",
        "# Example: Preview the first few rows\n",
        "print(data.head())\n",
        "\n",
        "# Convert text to features (bag of words representation)\n",
        "vectorizer = CountVectorizer(stop_words='english')\n",
        "\n",
        "# Transform the text data\n",
        "X = vectorizer.fit_transform(data['EmailText'])\n",
        "\n",
        "# Label (target variable)\n",
        "y = data['Label']\n",
        "\n",
        "# Split the dataset into training and testing sets\n",
        "X_train, X_test, y_train, y_test = train_test_split(X, y, test_size=0.3, random_state=42)\n",
        "\n",
        "# Create the SVM model\n",
        "model = SVC(kernel='linear')\n",
        "\n",
        "# Train the model\n",
        "model.fit(X_train, y_train)\n",
        "\n",
        "# Make predictions\n",
        "y_pred = model.predict(X_test)\n",
        "\n",
        "# Evaluate the model\n",
        "print(\"Accuracy:\", accuracy_score(y_test, y_pred))\n",
        "print(\"Classification Report:\")\n",
        "print(classification_report(y_test, y_pred))\n",
        "\n",
        "# Example of predicting a new email\n",
        "new_email = [\"Free money!!! Click here to win a million dollars.\"]\n",
        "new_email_transformed = vectorizer.transform(new_email)\n",
        "prediction = model.predict(new_email_transformed)\n",
        "\n",
        "print(\"Prediction for new email:\", \"Spam\" if prediction[0] == 1 else \"Not Spam\")\n"
      ]
    }
  ]
}